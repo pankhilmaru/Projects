{
 "cells": [
  {
   "cell_type": "code",
   "execution_count": 1,
   "id": "1157a78d",
   "metadata": {},
   "outputs": [
    {
     "data": {
      "text/html": [
       "<div>\n",
       "<style scoped>\n",
       "    .dataframe tbody tr th:only-of-type {\n",
       "        vertical-align: middle;\n",
       "    }\n",
       "\n",
       "    .dataframe tbody tr th {\n",
       "        vertical-align: top;\n",
       "    }\n",
       "\n",
       "    .dataframe thead th {\n",
       "        text-align: right;\n",
       "    }\n",
       "</style>\n",
       "<table border=\"1\" class=\"dataframe\">\n",
       "  <thead>\n",
       "    <tr style=\"text-align: right;\">\n",
       "      <th></th>\n",
       "      <th>Item_Weight</th>\n",
       "      <th>Item_Fat_Content</th>\n",
       "      <th>Item_Type</th>\n",
       "      <th>Item_MRP</th>\n",
       "      <th>Outlet_Size</th>\n",
       "      <th>Item_Outlet_Sales</th>\n",
       "    </tr>\n",
       "  </thead>\n",
       "  <tbody>\n",
       "    <tr>\n",
       "      <th>0</th>\n",
       "      <td>9.300</td>\n",
       "      <td>Low Fat</td>\n",
       "      <td>Dairy</td>\n",
       "      <td>249.8092</td>\n",
       "      <td>Medium</td>\n",
       "      <td>3735.1380</td>\n",
       "    </tr>\n",
       "    <tr>\n",
       "      <th>1</th>\n",
       "      <td>5.920</td>\n",
       "      <td>Regular</td>\n",
       "      <td>Drinks</td>\n",
       "      <td>48.2692</td>\n",
       "      <td>Medium</td>\n",
       "      <td>443.4228</td>\n",
       "    </tr>\n",
       "    <tr>\n",
       "      <th>2</th>\n",
       "      <td>17.500</td>\n",
       "      <td>Low Fat</td>\n",
       "      <td>Dairy</td>\n",
       "      <td>141.6180</td>\n",
       "      <td>Medium</td>\n",
       "      <td>2097.2700</td>\n",
       "    </tr>\n",
       "    <tr>\n",
       "      <th>3</th>\n",
       "      <td>8.930</td>\n",
       "      <td>Low Fat</td>\n",
       "      <td>Others</td>\n",
       "      <td>53.8614</td>\n",
       "      <td>High</td>\n",
       "      <td>994.7052</td>\n",
       "    </tr>\n",
       "    <tr>\n",
       "      <th>4</th>\n",
       "      <td>10.395</td>\n",
       "      <td>Regular</td>\n",
       "      <td>Others</td>\n",
       "      <td>51.4008</td>\n",
       "      <td>Medium</td>\n",
       "      <td>556.6088</td>\n",
       "    </tr>\n",
       "  </tbody>\n",
       "</table>\n",
       "</div>"
      ],
      "text/plain": [
       "   Item_Weight Item_Fat_Content Item_Type  Item_MRP Outlet_Size  \\\n",
       "0        9.300          Low Fat     Dairy  249.8092      Medium   \n",
       "1        5.920          Regular    Drinks   48.2692      Medium   \n",
       "2       17.500          Low Fat     Dairy  141.6180      Medium   \n",
       "3        8.930          Low Fat    Others   53.8614        High   \n",
       "4       10.395          Regular    Others   51.4008      Medium   \n",
       "\n",
       "   Item_Outlet_Sales  \n",
       "0          3735.1380  \n",
       "1           443.4228  \n",
       "2          2097.2700  \n",
       "3           994.7052  \n",
       "4           556.6088  "
      ]
     },
     "execution_count": 1,
     "metadata": {},
     "output_type": "execute_result"
    }
   ],
   "source": [
    "import pandas as pd\n",
    "\n",
    "train = pd.read_csv('big_mart_data.csv')\n",
    "train.head()"
   ]
  },
  {
   "cell_type": "code",
   "execution_count": 2,
   "id": "58de087c",
   "metadata": {},
   "outputs": [
    {
     "data": {
      "text/plain": [
       "array(['Low Fat', 'Regular'], dtype=object)"
      ]
     },
     "execution_count": 2,
     "metadata": {},
     "output_type": "execute_result"
    }
   ],
   "source": [
    "train['Item_Fat_Content'].unique()"
   ]
  },
  {
   "cell_type": "code",
   "execution_count": 3,
   "id": "ab6b9e77",
   "metadata": {},
   "outputs": [],
   "source": [
    "train['Item_Fat_Content'] = train['Item_Fat_Content'].map({'Low Fat': 0, 'Regular': 1})"
   ]
  },
  {
   "cell_type": "code",
   "execution_count": 4,
   "id": "7fe6a31a",
   "metadata": {},
   "outputs": [
    {
     "data": {
      "text/plain": [
       "array(['Dairy', 'Drinks', 'Others', 'Fruits'], dtype=object)"
      ]
     },
     "execution_count": 4,
     "metadata": {},
     "output_type": "execute_result"
    }
   ],
   "source": [
    "train['Item_Type'].unique()"
   ]
  },
  {
   "cell_type": "code",
   "execution_count": 5,
   "id": "471eac1b",
   "metadata": {},
   "outputs": [],
   "source": [
    "from sklearn import preprocessing\n",
    "le = preprocessing.LabelEncoder()"
   ]
  },
  {
   "cell_type": "code",
   "execution_count": 13,
   "id": "91444939",
   "metadata": {},
   "outputs": [],
   "source": [
    "train['Item_Type'] = le.fit_transform(train['Item_Type'])"
   ]
  },
  {
   "cell_type": "code",
   "execution_count": 15,
   "id": "9dbab835",
   "metadata": {},
   "outputs": [
    {
     "data": {
      "text/plain": [
       "array(['Medium', 'High', 'Small'], dtype=object)"
      ]
     },
     "execution_count": 15,
     "metadata": {},
     "output_type": "execute_result"
    }
   ],
   "source": [
    "train['Outlet_Size'].unique()"
   ]
  },
  {
   "cell_type": "code",
   "execution_count": 16,
   "id": "49ad9370",
   "metadata": {},
   "outputs": [],
   "source": [
    "train['Outlet_Size'] = train['Outlet_Size'].map({'Small': 0, 'Medium': 1,'High': 2})"
   ]
  },
  {
   "cell_type": "code",
   "execution_count": 17,
   "id": "dc38b796",
   "metadata": {},
   "outputs": [
    {
     "data": {
      "text/html": [
       "<div>\n",
       "<style scoped>\n",
       "    .dataframe tbody tr th:only-of-type {\n",
       "        vertical-align: middle;\n",
       "    }\n",
       "\n",
       "    .dataframe tbody tr th {\n",
       "        vertical-align: top;\n",
       "    }\n",
       "\n",
       "    .dataframe thead th {\n",
       "        text-align: right;\n",
       "    }\n",
       "</style>\n",
       "<table border=\"1\" class=\"dataframe\">\n",
       "  <thead>\n",
       "    <tr style=\"text-align: right;\">\n",
       "      <th></th>\n",
       "      <th>Item_Weight</th>\n",
       "      <th>Item_Fat_Content</th>\n",
       "      <th>Item_Type</th>\n",
       "      <th>Item_MRP</th>\n",
       "      <th>Outlet_Size</th>\n",
       "      <th>Item_Outlet_Sales</th>\n",
       "    </tr>\n",
       "  </thead>\n",
       "  <tbody>\n",
       "    <tr>\n",
       "      <th>0</th>\n",
       "      <td>9.300</td>\n",
       "      <td>0</td>\n",
       "      <td>0</td>\n",
       "      <td>249.8092</td>\n",
       "      <td>1</td>\n",
       "      <td>3735.1380</td>\n",
       "    </tr>\n",
       "    <tr>\n",
       "      <th>1</th>\n",
       "      <td>5.920</td>\n",
       "      <td>1</td>\n",
       "      <td>0</td>\n",
       "      <td>48.2692</td>\n",
       "      <td>1</td>\n",
       "      <td>443.4228</td>\n",
       "    </tr>\n",
       "    <tr>\n",
       "      <th>2</th>\n",
       "      <td>17.500</td>\n",
       "      <td>0</td>\n",
       "      <td>0</td>\n",
       "      <td>141.6180</td>\n",
       "      <td>1</td>\n",
       "      <td>2097.2700</td>\n",
       "    </tr>\n",
       "    <tr>\n",
       "      <th>3</th>\n",
       "      <td>8.930</td>\n",
       "      <td>0</td>\n",
       "      <td>0</td>\n",
       "      <td>53.8614</td>\n",
       "      <td>2</td>\n",
       "      <td>994.7052</td>\n",
       "    </tr>\n",
       "    <tr>\n",
       "      <th>4</th>\n",
       "      <td>10.395</td>\n",
       "      <td>1</td>\n",
       "      <td>0</td>\n",
       "      <td>51.4008</td>\n",
       "      <td>1</td>\n",
       "      <td>556.6088</td>\n",
       "    </tr>\n",
       "  </tbody>\n",
       "</table>\n",
       "</div>"
      ],
      "text/plain": [
       "   Item_Weight  Item_Fat_Content  Item_Type  Item_MRP  Outlet_Size  \\\n",
       "0        9.300                 0          0  249.8092            1   \n",
       "1        5.920                 1          0   48.2692            1   \n",
       "2       17.500                 0          0  141.6180            1   \n",
       "3        8.930                 0          0   53.8614            2   \n",
       "4       10.395                 1          0   51.4008            1   \n",
       "\n",
       "   Item_Outlet_Sales  \n",
       "0          3735.1380  \n",
       "1           443.4228  \n",
       "2          2097.2700  \n",
       "3           994.7052  \n",
       "4           556.6088  "
      ]
     },
     "execution_count": 17,
     "metadata": {},
     "output_type": "execute_result"
    }
   ],
   "source": [
    "train.head()"
   ]
  },
  {
   "cell_type": "code",
   "execution_count": 18,
   "id": "7fec8b95",
   "metadata": {},
   "outputs": [
    {
     "data": {
      "text/plain": [
       "Item_Weight          0\n",
       "Item_Fat_Content     0\n",
       "Item_Type            0\n",
       "Item_MRP             0\n",
       "Outlet_Size          0\n",
       "Item_Outlet_Sales    0\n",
       "dtype: int64"
      ]
     },
     "execution_count": 18,
     "metadata": {},
     "output_type": "execute_result"
    }
   ],
   "source": [
    "train.isnull().sum()"
   ]
  },
  {
   "cell_type": "code",
   "execution_count": 19,
   "id": "1224a278",
   "metadata": {},
   "outputs": [],
   "source": [
    "X = train.drop(['Item_Outlet_Sales'], axis=1)"
   ]
  },
  {
   "cell_type": "code",
   "execution_count": 20,
   "id": "5f15b249",
   "metadata": {},
   "outputs": [
    {
     "data": {
      "text/html": [
       "<div>\n",
       "<style scoped>\n",
       "    .dataframe tbody tr th:only-of-type {\n",
       "        vertical-align: middle;\n",
       "    }\n",
       "\n",
       "    .dataframe tbody tr th {\n",
       "        vertical-align: top;\n",
       "    }\n",
       "\n",
       "    .dataframe thead th {\n",
       "        text-align: right;\n",
       "    }\n",
       "</style>\n",
       "<table border=\"1\" class=\"dataframe\">\n",
       "  <thead>\n",
       "    <tr style=\"text-align: right;\">\n",
       "      <th></th>\n",
       "      <th>Item_Weight</th>\n",
       "      <th>Item_Fat_Content</th>\n",
       "      <th>Item_Type</th>\n",
       "      <th>Item_MRP</th>\n",
       "      <th>Outlet_Size</th>\n",
       "    </tr>\n",
       "  </thead>\n",
       "  <tbody>\n",
       "    <tr>\n",
       "      <th>0</th>\n",
       "      <td>9.300</td>\n",
       "      <td>0</td>\n",
       "      <td>0</td>\n",
       "      <td>249.8092</td>\n",
       "      <td>1</td>\n",
       "    </tr>\n",
       "    <tr>\n",
       "      <th>1</th>\n",
       "      <td>5.920</td>\n",
       "      <td>1</td>\n",
       "      <td>0</td>\n",
       "      <td>48.2692</td>\n",
       "      <td>1</td>\n",
       "    </tr>\n",
       "    <tr>\n",
       "      <th>2</th>\n",
       "      <td>17.500</td>\n",
       "      <td>0</td>\n",
       "      <td>0</td>\n",
       "      <td>141.6180</td>\n",
       "      <td>1</td>\n",
       "    </tr>\n",
       "    <tr>\n",
       "      <th>3</th>\n",
       "      <td>8.930</td>\n",
       "      <td>0</td>\n",
       "      <td>0</td>\n",
       "      <td>53.8614</td>\n",
       "      <td>2</td>\n",
       "    </tr>\n",
       "    <tr>\n",
       "      <th>4</th>\n",
       "      <td>10.395</td>\n",
       "      <td>1</td>\n",
       "      <td>0</td>\n",
       "      <td>51.4008</td>\n",
       "      <td>1</td>\n",
       "    </tr>\n",
       "  </tbody>\n",
       "</table>\n",
       "</div>"
      ],
      "text/plain": [
       "   Item_Weight  Item_Fat_Content  Item_Type  Item_MRP  Outlet_Size\n",
       "0        9.300                 0          0  249.8092            1\n",
       "1        5.920                 1          0   48.2692            1\n",
       "2       17.500                 0          0  141.6180            1\n",
       "3        8.930                 0          0   53.8614            2\n",
       "4       10.395                 1          0   51.4008            1"
      ]
     },
     "execution_count": 20,
     "metadata": {},
     "output_type": "execute_result"
    }
   ],
   "source": [
    "X.head()"
   ]
  },
  {
   "cell_type": "code",
   "execution_count": 21,
   "id": "8949cb27",
   "metadata": {},
   "outputs": [],
   "source": [
    "y = train.Item_Outlet_Sales"
   ]
  },
  {
   "cell_type": "code",
   "execution_count": 23,
   "id": "0b4e6809",
   "metadata": {},
   "outputs": [
    {
     "data": {
      "text/plain": [
       "LinearRegression()"
      ]
     },
     "execution_count": 23,
     "metadata": {},
     "output_type": "execute_result"
    }
   ],
   "source": [
    "from sklearn.linear_model import LinearRegression\n",
    "model = LinearRegression()\n",
    "model.fit(X,y)"
   ]
  },
  {
   "cell_type": "code",
   "execution_count": 24,
   "id": "98ddc4f0",
   "metadata": {},
   "outputs": [],
   "source": [
    "import pickle \n",
    "pickle_out = open(\"regressor.pkl\", mode = \"wb\") \n",
    "pickle.dump(model, pickle_out) \n",
    "pickle_out.close()"
   ]
  },
  {
   "cell_type": "code",
   "execution_count": 25,
   "id": "23cdd35a",
   "metadata": {},
   "outputs": [
    {
     "name": "stderr",
     "output_type": "stream",
     "text": [
      "\n",
      "[notice] A new release of pip is available: 23.0.1 -> 23.1.2\n",
      "[notice] To update, run: python.exe -m pip install --upgrade pip\n"
     ]
    }
   ],
   "source": [
    "!pip install -q pyngrok"
   ]
  },
  {
   "cell_type": "code",
   "execution_count": 26,
   "id": "783d8bfb",
   "metadata": {},
   "outputs": [
    {
     "name": "stderr",
     "output_type": "stream",
     "text": [
      "ERROR: pip's dependency resolver does not currently take into account all the packages that are installed. This behaviour is the source of the following dependency conflicts.\n",
      "spyder 5.1.5 requires pyqt5<5.13, which is not installed.\n",
      "spyder 5.1.5 requires pyqtwebengine<5.13, which is not installed.\n",
      "\n",
      "[notice] A new release of pip is available: 23.0.1 -> 23.1.2\n",
      "[notice] To update, run: python.exe -m pip install --upgrade pip\n"
     ]
    }
   ],
   "source": [
    "!pip install -q streamlit"
   ]
  },
  {
   "cell_type": "code",
   "execution_count": 37,
   "id": "59abee06",
   "metadata": {},
   "outputs": [
    {
     "name": "stdout",
     "output_type": "stream",
     "text": [
      "Overwriting app.py\n"
     ]
    }
   ],
   "source": [
    "%%writefile app.py\n",
    "import pickle\n",
    "import streamlit as st\n",
    "pickle_in = open('regressor.pkl', 'rb') \n",
    "regressor = pickle.load(pickle_in)\n",
    "\n",
    "def main():\n",
    "    html_temp = \"\"\" \n",
    "    <div style =\"background-color:yellow;padding:13px\"> \n",
    "    <h1 style =\"color:black;text-align:center;\">Check the Big Mart Sales</h1> \n",
    "    </div> \n",
    "    \"\"\"\n",
    "    st.markdown(html_temp, unsafe_allow_html = True) \n",
    "    \n",
    "    ItemWeight = st.number_input('Item_Weight')\n",
    "    ItemFatContent = st.selectbox('Item Fat Content',(\"Low Fat\",\"Regular\"))\n",
    "    ItemType = st.select_box('Item_Type',(\"Dairy\",\"Drinks\",\"Others\", \"Fruits\")) \n",
    "    ItemMRP = st.number_input(\"Amount of item in Rupees\")\n",
    "    OutletSize = st.selct_box('Outlet_Size',('Small','Medium','High'))\n",
    "    result= \"\"\n",
    "                              \n",
    "    if st.button(\"Check\"): \n",
    "        result = prediction(Item_Weight,Item_Fat_Content,Item_Type, Item_MRP,Outlet_Size) \n",
    "        st.success('Your ITem Outlet Sales is {}'.format(result))\n",
    "                              \n",
    "    if ItemFatContent == \"Low Fat\":\n",
    "         ItemFatContent = 0\n",
    "    else:\n",
    "        ItemFatContent = 1\n",
    "\n",
    "    if ItemType == \"Dairy\":\n",
    "        ItemType = 0\n",
    "    elif ItemType == \"Drinks\":\n",
    "        ItemType  = 1\n",
    "    elif ItemType == \"Others\":\n",
    "        ItemType = 2\n",
    "    else:\n",
    "        ItemType = 3\n",
    "                              \n",
    "    if OutletSize == \"Small\":\n",
    "        OutletSize = 0\n",
    "    elif OutletSize == \"Medium\":\n",
    "        OutletSize = 1\n",
    "    else:\n",
    "        OutletSize = 2\n",
    "    \n",
    "    prediction = regressor.predict([[ItemWeight,ItemFatContent,ItemType,ItemMRP,OutletSize]])\n",
    "                              \n",
    "if __name__=='__main__': \n",
    "    main()                                  "
   ]
  },
  {
   "cell_type": "code",
   "execution_count": 49,
   "id": "e15bf7e0",
   "metadata": {},
   "outputs": [
    {
     "ename": "SyntaxError",
     "evalue": "invalid syntax (Temp/ipykernel_16088/3737097518.py, line 1)",
     "output_type": "error",
     "traceback": [
      "\u001b[1;36m  File \u001b[1;32m\"C:\\Users\\pankh\\AppData\\Local\\Temp/ipykernel_16088/3737097518.py\"\u001b[1;36m, line \u001b[1;32m1\u001b[0m\n\u001b[1;33m    streamlit run app.py\u001b[0m\n\u001b[1;37m              ^\u001b[0m\n\u001b[1;31mSyntaxError\u001b[0m\u001b[1;31m:\u001b[0m invalid syntax\n"
     ]
    }
   ],
   "source": [
    "streamlit run app.py"
   ]
  },
  {
   "cell_type": "code",
   "execution_count": 48,
   "id": "3e0b35cc",
   "metadata": {},
   "outputs": [
    {
     "data": {
      "text/plain": [
       "<NgrokTunnel: \"https://56ef-2405-201-e-2855-e58d-f99d-b8bc-87a5.ngrok.io\" -> \"http://localhost:8501\">"
      ]
     },
     "execution_count": 48,
     "metadata": {},
     "output_type": "execute_result"
    }
   ],
   "source": [
    "from pyngrok import ngrok\n",
    "\n",
    "public_url = ngrok.connect('8501')\n",
    "public_url"
   ]
  },
  {
   "cell_type": "code",
   "execution_count": null,
   "id": "cb8c9811",
   "metadata": {},
   "outputs": [],
   "source": []
  }
 ],
 "metadata": {
  "kernelspec": {
   "display_name": "Python 3 (ipykernel)",
   "language": "python",
   "name": "python3"
  },
  "language_info": {
   "codemirror_mode": {
    "name": "ipython",
    "version": 3
   },
   "file_extension": ".py",
   "mimetype": "text/x-python",
   "name": "python",
   "nbconvert_exporter": "python",
   "pygments_lexer": "ipython3",
   "version": "3.9.7"
  }
 },
 "nbformat": 4,
 "nbformat_minor": 5
}
